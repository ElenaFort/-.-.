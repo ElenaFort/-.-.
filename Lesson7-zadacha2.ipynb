{
  "nbformat": 4,
  "nbformat_minor": 0,
  "metadata": {
    "colab": {
      "provenance": [],
      "authorship_tag": "ABX9TyMxtYIdDkW3KJl3fKbmHEaY",
      "include_colab_link": true
    },
    "kernelspec": {
      "name": "python3",
      "display_name": "Python 3"
    },
    "language_info": {
      "name": "python"
    }
  },
  "cells": [
    {
      "cell_type": "markdown",
      "metadata": {
        "id": "view-in-github",
        "colab_type": "text"
      },
      "source": [
        "<a href=\"https://colab.research.google.com/github/ElenaFort/Theory-of-probability/blob/main/Lesso7zadacha2.ipynb\" target=\"_parent\"><img src=\"https://colab.research.google.com/assets/colab-badge.svg\" alt=\"Open In Colab\"/></a>"
      ]
    },
    {
      "cell_type": "code",
      "execution_count": 4,
      "metadata": {
        "colab": {
          "base_uri": "https://localhost:8080/"
        },
        "id": "j5lJvspWKnUB",
        "outputId": "1ef9c7c6-9caf-4574-c859-0d16d71dbabf"
      },
      "outputs": [
        {
          "output_type": "execute_result",
          "data": {
            "text/plain": [
              "FriedmanchisquareResult(statistic=9.578947368421062, pvalue=0.00831683351100441)"
            ]
          },
          "metadata": {},
          "execution_count": 4
        }
      ],
      "source": [
        "#@title Текст заголовка по умолчанию\n",
        "import numpy as np\n",
        "\n",
        "before= np.array([150, 160, 165, 145, 155])\n",
        "\n",
        "in_10= np.array([140, 155, 150,  130, 135])\n",
        "\n",
        "in_30= np.array([130, 130, 120, 130, 125])\n",
        "\n",
        "stats.friedmanchisquare(before, in_10, in_30)"
      ]
    },
    {
      "cell_type": "markdown",
      "source": [
        "Статистически значимые различия есть, препарат влияет на уровень давления пациентов"
      ],
      "metadata": {
        "id": "ddRlBOo5dVea"
      }
    }
  ]
}
