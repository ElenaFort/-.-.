{
  "nbformat": 4,
  "nbformat_minor": 0,
  "metadata": {
    "colab": {
      "provenance": [],
      "authorship_tag": "ABX9TyNcf8iL68kWu0Ho5VAZRN2j"
    },
    "kernelspec": {
      "name": "python3",
      "display_name": "Python 3"
    },
    "language_info": {
      "name": "python"
    }
  },
  "cells": [
    {
      "cell_type": "code",
      "execution_count": 1,
      "metadata": {
        "colab": {
          "base_uri": "https://localhost:8080/"
        },
        "id": "EWKf6QQLhnaa",
        "outputId": "8b037d52-f258-4c7b-9167-d700b633d4ca"
      },
      "outputs": [
        {
          "output_type": "execute_result",
          "data": {
            "text/plain": [
              "MannwhitneyuResult(statistic=8.0, pvalue=0.6285714285714286)"
            ]
          },
          "metadata": {},
          "execution_count": 1
        }
      ],
      "source": [
        "import numpy as np\n",
        "import scipy.stats as stats\n",
        "\n",
        "x1= np.array([380,420,290])\n",
        "\n",
        "y1= np.array([140,360,200,900])\n",
        "\n",
        "stats.mannwhitneyu(x1, y1)"
      ]
    },
    {
      "cell_type": "markdown",
      "source": [
        "Статистически значимых различий нет"
      ],
      "metadata": {
        "id": "0B7BDQnBh0pM"
      }
    }
  ]
}