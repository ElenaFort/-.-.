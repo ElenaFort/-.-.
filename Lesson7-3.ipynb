{
  "nbformat": 4,
  "nbformat_minor": 0,
  "metadata": {
    "colab": {
      "provenance": [],
      "authorship_tag": "ABX9TyOBv2/Qi/UN4YSRO0JomMsi",
      "include_colab_link": true
    },
    "kernelspec": {
      "name": "python3",
      "display_name": "Python 3"
    },
    "language_info": {
      "name": "python"
    }
  },
  "cells": [
    {
      "cell_type": "markdown",
      "metadata": {
        "id": "view-in-github",
        "colab_type": "text"
      },
      "source": [
        "<a href=\"https://colab.research.google.com/github/ElenaFort/Theory-of-probability/blob/main/Lesson7-3.ipynb\" target=\"_parent\"><img src=\"https://colab.research.google.com/assets/colab-badge.svg\" alt=\"Open In Colab\"/></a>"
      ]
    },
    {
      "cell_type": "code",
      "execution_count": 2,
      "metadata": {
        "colab": {
          "base_uri": "https://localhost:8080/"
        },
        "id": "EWKf6QQLhnaa",
        "outputId": "8dcb3f97-af77-4b10-c2e9-a2eb2f180079"
      },
      "outputs": [
        {
          "output_type": "execute_result",
          "data": {
            "text/plain": [
              "WilcoxonResult(statistic=0.0, pvalue=0.0625)"
            ]
          },
          "metadata": {},
          "execution_count": 2
        }
      ],
      "source": [
        "import numpy as np\n",
        "import scipy.stats as stats\n",
        "\n",
        "before= np.array([150, 160, 165, 145, 155])\n",
        "\n",
        "in_10= np.array([140, 155, 150,  130, 135])\n",
        "\n",
        "stats.wilcoxon(before, in_10)"
      ]
    },
    {
      "cell_type": "markdown",
      "source": [
        "Статистически значимых различий нет, препарат не влияет на уровень давления пациентов"
      ],
      "metadata": {
        "id": "0B7BDQnBh0pM"
      }
    }
  ]
}