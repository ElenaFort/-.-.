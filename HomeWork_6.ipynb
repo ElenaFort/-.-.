{
  "nbformat": 4,
  "nbformat_minor": 0,
  "metadata": {
    "colab": {
      "provenance": [],
      "authorship_tag": "ABX9TyNXhlGv6nCrsRAG/kmVZI+B"
    },
    "kernelspec": {
      "name": "python3",
      "display_name": "Python 3"
    },
    "language_info": {
      "name": "python"
    }
  },
  "cells": [
    {
      "cell_type": "markdown",
      "source": [
        "## **Задание 1.**\n",
        "**Известно, что генеральная совокупность распределена нормально со средним\n",
        "квадратическим отклонением, равным 16. Найти доверительный интервал для\n",
        "оценки математического ожидания a с надежностью 0.95, если выборочная\n",
        "средняя M = 80, а объем выборки n = 256.**"
      ],
      "metadata": {
        "id": "FsAl9JzL6j1Y"
      }
    },
    {
      "cell_type": "code",
      "source": [
        "import scipy.stats as stats"
      ],
      "metadata": {
        "id": "xXIMUR4H72ww"
      },
      "execution_count": 18,
      "outputs": []
    },
    {
      "cell_type": "code",
      "execution_count": 19,
      "metadata": {
        "id": "9K5-xzpC6N_y"
      },
      "outputs": [],
      "source": [
        "M = 80\n",
        "n = 256\n",
        "sigma = 16"
      ]
    },
    {
      "cell_type": "code",
      "source": [
        "z_1 = stats.norm.ppf(0.975)\n",
        "z_1"
      ],
      "metadata": {
        "colab": {
          "base_uri": "https://localhost:8080/"
        },
        "id": "7dbxZIum8HM3",
        "outputId": "e79dee2b-d28d-450f-80ea-6e7755c8f32b"
      },
      "execution_count": 20,
      "outputs": [
        {
          "output_type": "execute_result",
          "data": {
            "text/plain": [
              "1.959963984540054"
            ]
          },
          "metadata": {},
          "execution_count": 20
        }
      ]
    },
    {
      "cell_type": "code",
      "source": [
        "x_1 = M - z_1*sigma/(n)**(1/2)\n",
        "x_1"
      ],
      "metadata": {
        "colab": {
          "base_uri": "https://localhost:8080/"
        },
        "id": "KQiSuybm8wKR",
        "outputId": "e2870b2a-98c0-45ca-d541-83460d23898b"
      },
      "execution_count": 21,
      "outputs": [
        {
          "output_type": "execute_result",
          "data": {
            "text/plain": [
              "78.04003601545995"
            ]
          },
          "metadata": {},
          "execution_count": 21
        }
      ]
    },
    {
      "cell_type": "code",
      "source": [
        "x_2 = M + z_1*sigma/(n)**(1/2)\n",
        "x_2"
      ],
      "metadata": {
        "colab": {
          "base_uri": "https://localhost:8080/"
        },
        "id": "DwFhhuKU-afC",
        "outputId": "22c7277e-fa5e-4e00-b778-9b48e0dcd255"
      },
      "execution_count": 22,
      "outputs": [
        {
          "output_type": "execute_result",
          "data": {
            "text/plain": [
              "81.95996398454005"
            ]
          },
          "metadata": {},
          "execution_count": 22
        }
      ]
    },
    {
      "cell_type": "code",
      "source": [
        "print('Доверительный интервал: [', round(x_1, 2), '; ', round(x_2, 2), ']')"
      ],
      "metadata": {
        "colab": {
          "base_uri": "https://localhost:8080/"
        },
        "id": "YQd7VbZ2_Aoa",
        "outputId": "9079d192-f8da-4818-aa41-8b186bfd76cb"
      },
      "execution_count": 23,
      "outputs": [
        {
          "output_type": "stream",
          "name": "stdout",
          "text": [
            "Доверительный интервал: [ 78.04 ;  81.96 ]\n"
          ]
        }
      ]
    },
    {
      "cell_type": "markdown",
      "source": [
        "## Задача 2.\n",
        "**В результате 10 независимых измерений некоторой величины X, выполненных с\n",
        "одинаковой точностью, получены опытные данные: 6.9, 6.1, 6.2, 6.8, 7.5, 6.3, 6.4, 6.9, 6.7, 6.1\n",
        "Предполагая, что результаты измерений подчинены нормальному закону распределения\n",
        "вероятностей, оценить истинное значение величины X при помощи доверительного\n",
        "интервала, покрывающего это значение с доверительной вероятностью 0,95.**\n"
      ],
      "metadata": {
        "id": "0UjNTjfEOT39"
      }
    },
    {
      "cell_type": "code",
      "source": [
        "import numpy as np\n",
        "import scipy.stats as stats\n",
        "a = np.array([6.9, 6.1, 6.2, 6.8, 7.5, 6.3, 6.4, 6.9, 6.7, 6.1])\n",
        "x = np.mean(a)\n",
        "x"
      ],
      "metadata": {
        "colab": {
          "base_uri": "https://localhost:8080/"
        },
        "id": "6PtDAHxVOfnk",
        "outputId": "faafbec4-fb76-45ae-db86-0ada96ed2f7c"
      },
      "execution_count": 24,
      "outputs": [
        {
          "output_type": "execute_result",
          "data": {
            "text/plain": [
              "6.590000000000001"
            ]
          },
          "metadata": {},
          "execution_count": 24
        }
      ]
    },
    {
      "cell_type": "code",
      "source": [
        "D = np.var(a, ddof=1)\n",
        "D"
      ],
      "metadata": {
        "colab": {
          "base_uri": "https://localhost:8080/"
        },
        "id": "iVVnIPcLPLV8",
        "outputId": "4b1f9ec7-aff2-4cd7-fe30-723d48e9badf"
      },
      "execution_count": 25,
      "outputs": [
        {
          "output_type": "execute_result",
          "data": {
            "text/plain": [
              "0.2032222222222223"
            ]
          },
          "metadata": {},
          "execution_count": 25
        }
      ]
    },
    {
      "cell_type": "code",
      "source": [
        "t = stats.t.ppf(0.975, len(a)-1)\n",
        "t"
      ],
      "metadata": {
        "colab": {
          "base_uri": "https://localhost:8080/"
        },
        "id": "POqwK6VcPY_8",
        "outputId": "dc0b24aa-c96f-4bd7-e46f-0e990cf00dd4"
      },
      "execution_count": 26,
      "outputs": [
        {
          "output_type": "execute_result",
          "data": {
            "text/plain": [
              "2.2621571628540993"
            ]
          },
          "metadata": {},
          "execution_count": 26
        }
      ]
    },
    {
      "cell_type": "code",
      "source": [
        "x_1 = x - t * np.sqrt(D/len(a))\n",
        "x_2 = x + t * np.sqrt(D/len(a))\n",
        "print('Доверительный интервал: [', round(x_1, 2), '; ', round(x_2, 2), ']')"
      ],
      "metadata": {
        "colab": {
          "base_uri": "https://localhost:8080/"
        },
        "id": "TUjF68X5Q_hl",
        "outputId": "86f00a51-7d9e-452e-deea-8b25feef61f0"
      },
      "execution_count": 27,
      "outputs": [
        {
          "output_type": "stream",
          "name": "stdout",
          "text": [
            "Доверительный интервал: [ 6.27 ;  6.91 ]\n"
          ]
        }
      ]
    },
    {
      "cell_type": "markdown",
      "source": [
        "## Задача 3.\n",
        "**Рост дочерей 175, 167, 154, 174, 178, 148, 160, 167, 169, 170 Рост матерей 178, 165,\n",
        "165, 173, 168, 155, 160, 164, 178, 175 Используя эти данные построить 95%\n",
        "доверительный интервал для разности среднего роста родителей и детей.**"
      ],
      "metadata": {
        "id": "tw7cGxk6SFud"
      }
    },
    {
      "cell_type": "code",
      "source": [
        "import numpy as np\n",
        "import scipy.stats as stats\n",
        "d = np.array([175, 167, 154, 174, 178, 148, 160, 167, 169, 170])\n",
        "m = np.array([178, 165, 165, 173, 168, 155, 160, 164, 178, 175])\n",
        "dl_d = len(d)\n",
        "dl_m = len(m)\n",
        "x_d = np.mean(d)\n",
        "x_m = np.mean(m)\n",
        "delta = x_d - x_m\n",
        "D_d = np.var(d, ddof=1)\n",
        "D_m = np.var(m, ddof=1)\n",
        "D = (D_d + D_m)/2\n",
        "SE = np.sqrt(D/dl_d + D/dl_m)\n",
        "t = stats.t.ppf(0.975, dl_d+dl_m-2)\n",
        "x_1 = delta - t * SE\n",
        "x_2 = delta + t * SE\n",
        "print('Доверительный интервал: [', round(x_1, 2), '; ', round(x_2, 2), ']')"
      ],
      "metadata": {
        "colab": {
          "base_uri": "https://localhost:8080/"
        },
        "id": "_kh-5gaHSLal",
        "outputId": "4e95af16-678e-4287-ce6c-492205dc0a0c"
      },
      "execution_count": 28,
      "outputs": [
        {
          "output_type": "stream",
          "name": "stdout",
          "text": [
            "Доверительный интервал: [ -10.07 ;  6.27 ]\n"
          ]
        }
      ]
    }
  ]
}