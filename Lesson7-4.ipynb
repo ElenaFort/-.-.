{
  "nbformat": 4,
  "nbformat_minor": 0,
  "metadata": {
    "colab": {
      "provenance": [],
      "authorship_tag": "ABX9TyPb0CNjsXne11/CkT3d4+fs",
      "include_colab_link": true
    },
    "kernelspec": {
      "name": "python3",
      "display_name": "Python 3"
    },
    "language_info": {
      "name": "python"
    }
  },
  "cells": [
    {
      "cell_type": "markdown",
      "metadata": {
        "id": "view-in-github",
        "colab_type": "text"
      },
      "source": [
        "<a href=\"https://colab.research.google.com/github/ElenaFort/Theory-of-probability/blob/main/Lesson7-4.ipynb\" target=\"_parent\"><img src=\"https://colab.research.google.com/assets/colab-badge.svg\" alt=\"Open In Colab\"/></a>"
      ]
    },
    {
      "cell_type": "code",
      "execution_count": 3,
      "metadata": {
        "colab": {
          "base_uri": "https://localhost:8080/"
        },
        "id": "EWKf6QQLhnaa",
        "outputId": "08c918cf-0526-45de-f1ad-2d81fddbead3"
      },
      "outputs": [
        {
          "output_type": "execute_result",
          "data": {
            "text/plain": [
              "KruskalResult(statistic=5.465564058257224, pvalue=0.0650380998590494)"
            ]
          },
          "metadata": {},
          "execution_count": 3
        }
      ],
      "source": [
        "import numpy as np\n",
        "import scipy.stats as stats\n",
        "\n",
        "gr_1= np.array([56, 60, 62, 55, 71, 67, 59, 58, 64, 67])\n",
        "\n",
        "gr_2= np.array([57, 58, 69, 48, 72, 70, 68, 71, 50, 53])\n",
        "\n",
        "gr_3= np.array([57, 67, 49, 48, 47, 55, 66, 51, 54])\n",
        "\n",
        "stats.kruskal(gr_1, gr_2, gr_3)"
      ]
    },
    {
      "cell_type": "markdown",
      "source": [
        "Статистически значимых различий нет"
      ],
      "metadata": {
        "id": "0B7BDQnBh0pM"
      }
    }
  ]
}